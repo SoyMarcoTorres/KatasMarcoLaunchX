{
 "cells": [
  {
   "cell_type": "markdown",
   "metadata": {},
   "source": [
    "# Ejercicio 1"
   ]
  },
  {
   "cell_type": "code",
   "execution_count": 10,
   "metadata": {},
   "outputs": [],
   "source": [
    "d_tierra = 149597870\n",
    "d_jupiter = 778547200\n"
   ]
  },
  {
   "cell_type": "code",
   "execution_count": 13,
   "metadata": {},
   "outputs": [
    {
     "name": "stdout",
     "output_type": "stream",
     "text": [
      "La distancia es de:  628949330 km\n",
      "La distancia es de:  390577533.93 mp\n"
     ]
    }
   ],
   "source": [
    "d_final = d_jupiter - d_tierra\n",
    "print(\"La distancia es de: \", d_final , \"km\")\n",
    "\n",
    "print(\"La distancia es de: \", d_final * 0.621, \"mp\")"
   ]
  },
  {
   "cell_type": "markdown",
   "metadata": {},
   "source": [
    "# Ejercicio 2"
   ]
  },
  {
   "cell_type": "code",
   "execution_count": 15,
   "metadata": {},
   "outputs": [],
   "source": [
    "planeta_1 = input(\"Distancia del sol del planeta 1: \")\n",
    "planeta_2 = input(\"Distancia del sol del planeta 2: \")"
   ]
  },
  {
   "cell_type": "code",
   "execution_count": 16,
   "metadata": {},
   "outputs": [],
   "source": [
    "planeta_1 = int(planeta_1)\n",
    "planeta_2 = int(planeta_2)"
   ]
  },
  {
   "cell_type": "code",
   "execution_count": 17,
   "metadata": {},
   "outputs": [
    {
     "name": "stdout",
     "output_type": "stream",
     "text": [
      "Distancia:  50300000 km\n",
      "Distancia:  31236300.0 mp\n"
     ]
    }
   ],
   "source": [
    "distancia_final = (abs(planeta_1 - planeta_2))\n",
    "print(\"Distancia: \", distancia_final, \"km\")\n",
    "\n",
    "print(\"Distancia: \", (abs(distancia_final*0.621)), \"mp\")\n"
   ]
  }
 ],
 "metadata": {
  "interpreter": {
   "hash": "9085f88dbe8596dd4152afbed05d02205d68a11f6ac8db877ac3b3979dbf39ce"
  },
  "kernelspec": {
   "display_name": "Python 3.10.2 64-bit (windows store)",
   "language": "python",
   "name": "python3"
  },
  "language_info": {
   "codemirror_mode": {
    "name": "ipython",
    "version": 3
   },
   "file_extension": ".py",
   "mimetype": "text/x-python",
   "name": "python",
   "nbconvert_exporter": "python",
   "pygments_lexer": "ipython3",
   "version": "3.10.2"
  },
  "orig_nbformat": 4
 },
 "nbformat": 4,
 "nbformat_minor": 2
}
