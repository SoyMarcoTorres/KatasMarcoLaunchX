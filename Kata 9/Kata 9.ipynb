{
 "cells": [
  {
   "cell_type": "markdown",
   "metadata": {},
   "source": [
    "# Ejercicio 1"
   ]
  },
  {
   "cell_type": "code",
   "execution_count": 32,
   "metadata": {},
   "outputs": [],
   "source": [
    "def combustible_lec(tanque_1, tanque_2, tanque_3):\n",
    "    promedio = (tanque_1 + tanque_2 + tanque_3) / 3\n",
    "    return f'Tanque 1: {tanque_1}% \\nTanque 2: {tanque_2}% \\nTanque 3: {tanque_3}% \\nPromedio de Combustile: {round(promedio, 2)}'"
   ]
  },
  {
   "cell_type": "code",
   "execution_count": 33,
   "metadata": {},
   "outputs": [
    {
     "name": "stdout",
     "output_type": "stream",
     "text": [
      "Tanque 1: 50% \n",
      "Tanque 2: 25% \n",
      "Tanque 3: 80% \n",
      "Promedio de Combustile: 51.67\n"
     ]
    }
   ],
   "source": [
    "print(combustible_lec(tanque_1=50, tanque_2=25, tanque_3=80))"
   ]
  },
  {
   "cell_type": "code",
   "execution_count": 34,
   "metadata": {},
   "outputs": [],
   "source": [
    "def promedio(args):\n",
    "    total = sum(args)\n",
    "    cantidad = len(args)\n",
    "    return total / cantidad"
   ]
  },
  {
   "cell_type": "code",
   "execution_count": 35,
   "metadata": {},
   "outputs": [
    {
     "data": {
      "text/plain": [
       "51.67"
      ]
     },
     "execution_count": 35,
     "metadata": {},
     "output_type": "execute_result"
    }
   ],
   "source": [
    "round(promedio([50, 25, 80]), 2)"
   ]
  },
  {
   "cell_type": "markdown",
   "metadata": {},
   "source": [
    "# Ejercicio 2"
   ]
  },
  {
   "cell_type": "code",
   "execution_count": 37,
   "metadata": {},
   "outputs": [],
   "source": [
    "def informe(preLanz, tiempoVuelo, destino, tanqueX, tanqueIn):\n",
    "    return \"\"\"\"Hora PreLanzamiento: {preLanz}\n",
    "    ... Tiempo de Vuelo: {timepoVuelo}\n",
    "    ... Destino. {destino}\n",
    "    ... Tanque Externo: {tanqueX}%\n",
    "    ... Tanque Interno {tanqueIn}%\"\"\""
   ]
  },
  {
   "cell_type": "code",
   "execution_count": 40,
   "metadata": {},
   "outputs": [],
   "source": [
    "def informeCompleto(destino, *minutes, **tanques):\n",
    "    info = f\"\"\"\"Destino: {destino}\n",
    "    ... Tiempo de vuelo: {sum(minutes)} minutos\n",
    "    ... Total de combustible: {sum(tanques.values())}\"\"\"\n",
    "\n",
    "    for tanque, litros in tanques.items():\n",
    "        info += f'{tanques} tanque, contiene {litros} litros'\n",
    "    return info"
   ]
  },
  {
   "cell_type": "code",
   "execution_count": 42,
   "metadata": {},
   "outputs": [
    {
     "name": "stdout",
     "output_type": "stream",
     "text": [
      "\"Destino: Marte\n",
      "    ... Tiempo de vuelo: 155 minutos\n",
      "    ... Total de combustible: 150{'Externo': 100, 'Interno': 50} tanque, contiene 100 litros{'Externo': 100, 'Interno': 50} tanque, contiene 50 litros\n"
     ]
    }
   ],
   "source": [
    "print(informeCompleto('Marte', 50, 25, 80, Externo = 100, Interno = 50))"
   ]
  }
 ],
 "metadata": {
  "interpreter": {
   "hash": "9085f88dbe8596dd4152afbed05d02205d68a11f6ac8db877ac3b3979dbf39ce"
  },
  "kernelspec": {
   "display_name": "Python 3.10.2 64-bit (windows store)",
   "language": "python",
   "name": "python3"
  },
  "language_info": {
   "codemirror_mode": {
    "name": "ipython",
    "version": 3
   },
   "file_extension": ".py",
   "mimetype": "text/x-python",
   "name": "python",
   "nbconvert_exporter": "python",
   "pygments_lexer": "ipython3",
   "version": "3.10.2"
  },
  "orig_nbformat": 4
 },
 "nbformat": 4,
 "nbformat_minor": 2
}
