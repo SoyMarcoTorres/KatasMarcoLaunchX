{
 "cells": [
  {
   "cell_type": "code",
   "execution_count": 11,
   "metadata": {},
   "outputs": [
    {
     "name": "stdout",
     "output_type": "stream",
     "text": [
      "Peligro de Impacto\n"
     ]
    }
   ],
   "source": [
    "# Problema 1\n",
    "\n",
    "v = 49\n",
    "if v > 25:\n",
    "    print(\"Peligro de Impacto\")\n",
    "elif v > 0 or v == 25:\n",
    "    print(\"Advertencia\")\n",
    "else:\n",
    "    print(\"Todo bien por ahora :)\")"
   ]
  },
  {
   "cell_type": "code",
   "execution_count": 15,
   "metadata": {},
   "outputs": [
    {
     "name": "stdout",
     "output_type": "stream",
     "text": [
      "Que miras? Sigue tu camino\n"
     ]
    }
   ],
   "source": [
    "# Problema 2\n",
    "\n",
    "v = 19\n",
    "if v > 20:\n",
    "    print(\"Mira arriba!\")\n",
    "elif v == 20:\n",
    "    print(\"Mira arriba!\")\n",
    "else: \n",
    "    print(\"Que miras? Sigue tu camino\")"
   ]
  },
  {
   "cell_type": "code",
   "execution_count": 22,
   "metadata": {},
   "outputs": [
    {
     "name": "stdout",
     "output_type": "stream",
     "text": [
      "Mira arriba!\n"
     ]
    }
   ],
   "source": [
    "# Problema 3\n",
    "\n",
    "v = 25\n",
    "t = 25\n",
    "if v > 25:\n",
    "    if t > 25 and t < 1000:\n",
    "        print(\"Peligro de Alto Impacto\")\n",
    "    else:\n",
    "        print(\"Peligro de Impacto\")\n",
    "elif v > 0 or v == 25:\n",
    "    if t > 25 and t < 1000:\n",
    "        print(\"Advertencia\")\n",
    "    else:\n",
    "        print(\"Mira arriba!\")\n",
    "else:\n",
    "    print(\"Todo bien por ahora\")"
   ]
  }
 ],
 "metadata": {
  "interpreter": {
   "hash": "9085f88dbe8596dd4152afbed05d02205d68a11f6ac8db877ac3b3979dbf39ce"
  },
  "kernelspec": {
   "display_name": "Python 3.10.2 64-bit (windows store)",
   "language": "python",
   "name": "python3"
  },
  "language_info": {
   "codemirror_mode": {
    "name": "ipython",
    "version": 3
   },
   "file_extension": ".py",
   "mimetype": "text/x-python",
   "name": "python",
   "nbconvert_exporter": "python",
   "pygments_lexer": "ipython3",
   "version": "3.10.2"
  },
  "orig_nbformat": 4
 },
 "nbformat": 4,
 "nbformat_minor": 2
}
